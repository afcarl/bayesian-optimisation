{
 "cells": [
  {
   "cell_type": "code",
   "execution_count": 1,
   "metadata": {
    "collapsed": true
   },
   "outputs": [],
   "source": [
    "%config InlineBackend.figure_format='retina'\n",
    "%matplotlib inline\n",
    "\n",
    "# Silence warnings\n",
    "import warnings\n",
    "warnings.simplefilter(action=\"ignore\", category=FutureWarning)\n",
    "warnings.simplefilter(action=\"ignore\", category=UserWarning)\n",
    "warnings.simplefilter(action=\"ignore\", category=RuntimeWarning)\n",
    "warnings.simplefilter(action='ignore', category=DeprecationWarning)\n",
    "\n",
    "import numpy as np\n",
    "np.random.seed(123)\n",
    "import matplotlib.pyplot as plt\n",
    "plt.rcParams[\"figure.figsize\"] = (8, 8)\n",
    "plt.rcParams[\"font.size\"] = 14\n",
    "plt.rcParams[\"lines.linewidth\"] = 4\n",
    "plt.rcParams[\"lines.markersize\"] = 10\n",
    "plt.rcParams['axes.titlesize'] = 'x-large'\n",
    "plt.rcParams['axes.labelsize'] = 'x-large'\n",
    "\n",
    "from ipywidgets import interact"
   ]
  },
  {
   "cell_type": "markdown",
   "metadata": {},
   "source": [
    "# The Bayesian Optimisation Loop"
   ]
  },
  {
   "cell_type": "code",
   "execution_count": 2,
   "metadata": {
    "collapsed": true
   },
   "outputs": [],
   "source": [
    "from skopt import Optimizer\n",
    "from skopt.space import Space\n",
    "from utils import plot_optimizer\n",
    "\n",
    "\n",
    "x = np.linspace(-2, 2, 400).reshape(-1, 1)\n",
    "noise_level = 0.1\n",
    "\n",
    "# Our 1D toy problem, this is the function we are trying to\n",
    "# minimize\n",
    "def objective(x, noise_level=noise_level):\n",
    "    return (np.sin(5 * x[0]) *\n",
    "            (1 - np.tanh(x[0] ** 2)) +\n",
    "            np.random.randn() * noise_level)"
   ]
  },
  {
   "cell_type": "code",
   "execution_count": 3,
   "metadata": {},
   "outputs": [
    {
     "data": {
      "application/vnd.jupyter.widget-view+json": {
       "model_id": "1cef5f4952a54195ac408e0b2dbcfa8a"
      }
     },
     "metadata": {},
     "output_type": "display_data"
    }
   ],
   "source": [
    "@interact(n_iter=(3, 22))\n",
    "def show_optimizer(n_iter=3):\n",
    "    np.random.seed(123)\n",
    "\n",
    "    # setup the dimensions of the space, the \n",
    "    # surrogate model to use and plug it all\n",
    "    # together inside the optimizer\n",
    "    space = Space([(-2.0, 2.0)])\n",
    "\n",
    "    opt = Optimizer(space,\n",
    "                    n_initial_points=3,\n",
    "                    acq_func=\"EI\",\n",
    "                    acq_func_kwargs={'xi': 0.01})\n",
    "    for _ in range(n_iter):\n",
    "        suggested = opt.ask()\n",
    "        y = objective(suggested)\n",
    "        opt.tell(suggested, y)\n",
    "        \n",
    "    plot_optimizer(opt, x)\n",
    "    plt.show()"
   ]
  },
  {
   "cell_type": "code",
   "execution_count": null,
   "metadata": {
    "collapsed": true
   },
   "outputs": [],
   "source": []
  }
 ],
 "metadata": {
  "kernelspec": {
   "display_name": "Python 3",
   "language": "python",
   "name": "python3"
  },
  "language_info": {
   "codemirror_mode": {
    "name": "ipython",
    "version": 3
   },
   "file_extension": ".py",
   "mimetype": "text/x-python",
   "name": "python",
   "nbconvert_exporter": "python",
   "pygments_lexer": "ipython3",
   "version": "3.6.1"
  }
 },
 "nbformat": 4,
 "nbformat_minor": 2
}
