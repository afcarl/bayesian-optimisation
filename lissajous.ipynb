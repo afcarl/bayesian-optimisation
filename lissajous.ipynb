{
 "cells": [
  {
   "cell_type": "code",
   "execution_count": 2,
   "metadata": {
    "collapsed": true
   },
   "outputs": [],
   "source": [
    "%config InlineBackend.figure_format='retina'\n",
    "%matplotlib inline\n",
    "\n",
    "# Silence warnings\n",
    "import warnings\n",
    "warnings.simplefilter(action=\"ignore\", category=FutureWarning)\n",
    "warnings.simplefilter(action=\"ignore\", category=UserWarning)\n",
    "warnings.simplefilter(action=\"ignore\", category=RuntimeWarning)\n",
    "warnings.simplefilter(action='ignore', category=DeprecationWarning)\n",
    "\n",
    "import numpy as np\n",
    "np.random.seed(123)\n",
    "import matplotlib.pyplot as plt\n",
    "plt.rcParams[\"figure.figsize\"] = (8, 8)\n",
    "plt.rcParams[\"font.size\"] = 14\n",
    "plt.rcParams[\"lines.linewidth\"] = 4\n",
    "plt.rcParams[\"lines.markersize\"] = 10\n",
    "plt.rcParams['axes.titlesize'] = 'x-large'\n",
    "plt.rcParams['axes.labelsize'] = 'x-large'\n",
    "\n",
    "import ipywidgets"
   ]
  },
  {
   "cell_type": "code",
   "execution_count": 9,
   "metadata": {},
   "outputs": [
    {
     "data": {
      "application/vnd.jupyter.widget-view+json": {
       "model_id": "c857fcdafc13400ca6bb16b2b72fabc6"
      }
     },
     "metadata": {},
     "output_type": "display_data"
    }
   ],
   "source": [
    "@ipywidgets.interact(a=(0, 10), b=(0, 10), delta=(0, 2*np.pi, 0.25*np.pi))\n",
    "def lissajous(a=1, b=1, delta=np.pi/2):\n",
    "    t = np.linspace(-np.pi , np.pi, 500)\n",
    "\n",
    "    x = np.sin(a * t + delta)\n",
    "    y = np.sin(b * t)\n",
    "    plt.plot(x, y)\n",
    "    plt.show()"
   ]
  },
  {
   "cell_type": "code",
   "execution_count": 38,
   "metadata": {},
   "outputs": [
    {
     "data": {
      "application/vnd.jupyter.widget-view+json": {
       "model_id": "d55370ea841b4eceb137c331555f967b"
      }
     },
     "metadata": {},
     "output_type": "display_data"
    }
   ],
   "source": [
    "@ipywidgets.interact(n=(1., 10.), d=(1., 10.), c=(0, 10.))\n",
    "def rose(n=5, d=1, c=3.5):\n",
    "    k = n / d\n",
    "\n",
    "    if n > d:\n",
    "        m = n+1\n",
    "    else:\n",
    "        m = d-1\n",
    "    theta = np.linspace(0, m*2*np.pi/k, 600)\n",
    "\n",
    "    r = np.cos(k * theta) + c\n",
    "    x = r * np.cos(theta)\n",
    "    y = r * np.sin(theta)\n",
    "\n",
    "    plt.plot(x,y)\n",
    "    plt.show()"
   ]
  }
 ],
 "metadata": {
  "kernelspec": {
   "display_name": "Python 3",
   "language": "python",
   "name": "python3"
  },
  "language_info": {
   "codemirror_mode": {
    "name": "ipython",
    "version": 3
   },
   "file_extension": ".py",
   "mimetype": "text/x-python",
   "name": "python",
   "nbconvert_exporter": "python",
   "pygments_lexer": "ipython3",
   "version": "3.6.1"
  }
 },
 "nbformat": 4,
 "nbformat_minor": 2
}
