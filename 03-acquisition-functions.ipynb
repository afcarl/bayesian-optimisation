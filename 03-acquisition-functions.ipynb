{
 "cells": [
  {
   "cell_type": "code",
   "execution_count": 1,
   "metadata": {
    "collapsed": true
   },
   "outputs": [],
   "source": [
    "%config InlineBackend.figure_format='retina'\n",
    "%matplotlib inline\n",
    "\n",
    "# Silence warnings\n",
    "import warnings\n",
    "warnings.simplefilter(action=\"ignore\", category=FutureWarning)\n",
    "warnings.simplefilter(action=\"ignore\", category=UserWarning)\n",
    "warnings.simplefilter(action=\"ignore\", category=RuntimeWarning)\n",
    "warnings.simplefilter(action='ignore', category=DeprecationWarning)\n",
    "\n",
    "import numpy as np\n",
    "np.random.seed(123)\n",
    "import matplotlib.pyplot as plt\n",
    "plt.rcParams[\"figure.figsize\"] = (8, 8)\n",
    "plt.rcParams[\"font.size\"] = 14\n",
    "plt.rcParams[\"lines.linewidth\"] = 4\n",
    "plt.rcParams[\"lines.markersize\"] = 10\n",
    "plt.rcParams['axes.titlesize'] = 'x-large'\n",
    "plt.rcParams['axes.labelsize'] = 'x-large'"
   ]
  },
  {
   "cell_type": "markdown",
   "metadata": {},
   "source": [
    "# The tradeoff between exploration and exploitation"
   ]
  },
  {
   "cell_type": "code",
   "execution_count": 2,
   "metadata": {
    "collapsed": true
   },
   "outputs": [],
   "source": [
    "from ipywidgets import interact\n",
    "\n",
    "from skopt import Optimizer\n",
    "from skopt.space import Space\n",
    "from skopt.utils import cook_estimator\n",
    "from utils import plot_optimizer\n",
    "\n",
    "\n",
    "x = np.linspace(-2, 2, 400).reshape(-1, 1)\n",
    "noise_level = 0.1\n",
    "\n",
    "# Our 1D toy problem, this is the function we are trying to\n",
    "# minimize\n",
    "def objective(x, noise_level=noise_level):\n",
    "    return np.sin(5 * x[0]) * (1 - np.tanh(x[0] ** 2)) + np.random.randn() * noise_level"
   ]
  },
  {
   "cell_type": "code",
   "execution_count": 3,
   "metadata": {},
   "outputs": [
    {
     "name": "stderr",
     "output_type": "stream",
     "text": [
      "Widget Javascript not detected.  It may not be installed or enabled properly.\n"
     ]
    },
    {
     "data": {
      "application/vnd.jupyter.widget-view+json": {
       "model_id": "e59321243523408ab5dae7675a4c5690"
      }
     },
     "metadata": {},
     "output_type": "display_data"
    }
   ],
   "source": [
    "# setup the dimensions of the space, the surrogate model to use and plug it all together\n",
    "# inside the optimizer\n",
    "space = Space([(-2.0, 2.0)])\n",
    "\n",
    "# use our knowledge of the size of the noise\n",
    "#gp = cook_estimator(\"GP\", space, noise=0.1**2)\n",
    "# or not use it\n",
    "gp = cook_estimator(\"GP\", space, noise=\"gaussian\")\n",
    "\n",
    "@interact(xi=(0.01, 1.), kappa=(0., 3.), n_iterations=(3, 20), acq_name=['EI', 'LCB'])\n",
    "def run(xi=0.01, kappa=1.96, n_iterations=4, acq_name='EI'):\n",
    "    np.random.seed(123+1+1+1)\n",
    "\n",
    "    if acq_name == \"EI\":\n",
    "        acq_func_kwargs = {'xi': xi}\n",
    "    elif acq_name == 'LCB':\n",
    "        acq_func_kwargs = {'kappa': kappa}\n",
    "\n",
    "    opt = Optimizer(space, gp, acq_func=acq_name, n_initial_points=3,\n",
    "                    random_state=3,\n",
    "                    #acq_optimizer='sampling',\n",
    "                    acq_func_kwargs=acq_func_kwargs)\n",
    "\n",
    "    for _ in range(n_iterations):\n",
    "        suggested = opt.ask()\n",
    "        y = objective(suggested)\n",
    "        opt.tell(suggested, y)   \n",
    "        \n",
    "    plot_optimizer(opt, x, acq_name=acq_name)\n",
    "    plt.xlim([-2, 2])\n",
    "    plt.ylim([-2, 1])\n",
    "    plt.show()\n",
    "# default settings, xi=0.01 more exploitation\n",
    "# xi=5, more exploration"
   ]
  }
 ],
 "metadata": {
  "kernelspec": {
   "display_name": "Python 3",
   "language": "python",
   "name": "python3"
  },
  "language_info": {
   "codemirror_mode": {
    "name": "ipython",
    "version": 3
   },
   "file_extension": ".py",
   "mimetype": "text/x-python",
   "name": "python",
   "nbconvert_exporter": "python",
   "pygments_lexer": "ipython3",
   "version": "3.6.1"
  }
 },
 "nbformat": 4,
 "nbformat_minor": 2
}
